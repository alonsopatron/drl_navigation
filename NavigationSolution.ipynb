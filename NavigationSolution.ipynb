{
 "cells": [
  {
   "cell_type": "markdown",
   "id": "a96d768f",
   "metadata": {},
   "source": [
    "# Navigation"
   ]
  },
  {
   "cell_type": "code",
   "execution_count": 1,
   "id": "1256b52b",
   "metadata": {},
   "outputs": [],
   "source": [
    "# Import all dependenciees\n",
    "from agent import Agent\n",
    "from collections import deque\n",
    "import numpy as np\n",
    "\n",
    "import torch\n",
    "import matplotlib.pyplot as plt\n",
    "%matplotlib inline\n",
    "\n",
    "from unityagents import UnityEnvironment"
   ]
  },
  {
   "cell_type": "code",
   "execution_count": 2,
   "id": "70e4b9ea",
   "metadata": {},
   "outputs": [
    {
     "name": "stdout",
     "output_type": "stream",
     "text": [
      "Mono path[0] = '/Users/alonso/Desktop/DRL_Course/code/drl_navigation/Banana.app/Contents/Resources/Data/Managed'\n",
      "Mono config path = '/Users/alonso/Desktop/DRL_Course/code/drl_navigation/Banana.app/Contents/MonoBleedingEdge/etc'\n"
     ]
    },
    {
     "name": "stderr",
     "output_type": "stream",
     "text": [
      "INFO:unityagents:\n",
      "'Academy' started successfully!\n",
      "Unity Academy name: Academy\n",
      "        Number of Brains: 1\n",
      "        Number of External Brains : 1\n",
      "        Lesson number : 0\n",
      "        Reset Parameters :\n",
      "\t\t\n",
      "Unity brain name: BananaBrain\n",
      "        Number of Visual Observations (per agent): 0\n",
      "        Vector Observation space type: continuous\n",
      "        Vector Observation space size (per agent): 37\n",
      "        Number of stacked Vector Observation: 1\n",
      "        Vector Action space type: discrete\n",
      "        Vector Action space size (per agent): 4\n",
      "        Vector Action descriptions: , , , \n"
     ]
    }
   ],
   "source": [
    "# Load the Unity environment\n",
    "env = UnityEnvironment(file_name=\"/Users/alonso/Desktop/DRL_Course/code/drl_navigation/Banana.app\")\n",
    "\n",
    "# Get the default brain\n",
    "brain_name = env.brain_names[0]\n",
    "brain = env.brains[brain_name]\n",
    "seed = 42\n",
    "state_size = brain.vector_observation_space_size\n",
    "action_size = brain.vector_action_space_size"
   ]
  },
  {
   "cell_type": "code",
   "execution_count": null,
   "id": "b683d8ef",
   "metadata": {},
   "outputs": [],
   "source": [
    "# Initialize an agent\n",
    "agent = Agent(state_size, action_size, seed)\n",
    "\n",
    "# Set the learning parameters\n",
    "num_episodes = 1000\n",
    "#num_steps_per_episode = 10000\n",
    "eps_start = 1.0\n",
    "eps_end = 0.01 \n",
    "eps_decay = 0.995\n",
    "\n",
    "# Train the agent\n",
    "scores = []\n",
    "scores_window = deque(maxlen=100)\n",
    "eps = eps_start\n",
    "\n",
    "for i in range(1,num_episodes+1):\n",
    "    # Reset the environment and get the initial state\n",
    "    env_info = env.reset(train_mode=True)[brain_name]\n",
    "    state = env_info.vector_observations[0]  \n",
    "    # Initialize the score\n",
    "    score = 0                                         \n",
    "\n",
    "    # Take steps\n",
    "    #for t in range(num_steps_per_episode):\n",
    "    while True:\n",
    "        # Get an action given the current state\n",
    "        action = agent.act(state)\n",
    "        # Send the action to the environment\n",
    "        env_info = env.step(action)[brain_name] \n",
    "        # Get the resulting state and reward\n",
    "        reward = env_info.rewards[0]\n",
    "        next_state = env_info.vector_observations[0]\n",
    "        done = env_info.local_done[0]\n",
    "        # Update score for this episode\n",
    "        score += reward\n",
    "        \n",
    "        # Take a learning step if we have enough data, \n",
    "        # otherwise just store this experience in our \n",
    "        # experience memory.\n",
    "        agent.step(state, action, reward, next_state, done)\n",
    "        \n",
    "        # Update state\n",
    "        state = next_state    \n",
    "        \n",
    "        if done:\n",
    "            break\n",
    "    \n",
    "    # Update epsilon\n",
    "    eps = max(eps_end, eps_decay*eps)\n",
    "    # Update scores\n",
    "    scores.append(score)\n",
    "    scores_window.append(score)\n",
    "    \n",
    "    # Print progress\n",
    "    print('\\rEpisode {}\\tAverage Score: {:.2f}'.format(i, np.mean(scores_window)), end=\"\")\n",
    "    if i % 100 == 0:\n",
    "        print('\\rEpisode {}\\tAverage Score: {:.2f}'.format(i, np.mean(scores_window)))\n",
    "    \n",
    "\n",
    "# Save the model\n",
    "torch.save(agent.qnetwork_local.state_dict(), 'checkpoint.pth')\n",
    "np.savetxt('scores.csv', scores, delimiter=',')    \n",
    "\n",
    "# plot the scores\n",
    "fig = plt.figure()\n",
    "ax = fig.add_subplot(111)\n",
    "plt.plot(np.arange(len(scores)), scores)\n",
    "plt.ylabel('Score')\n",
    "plt.xlabel('Episode #')\n",
    "plt.show()"
   ]
  },
  {
   "cell_type": "code",
   "execution_count": 3,
   "id": "8cdb1753",
   "metadata": {},
   "outputs": [
    {
     "name": "stdout",
     "output_type": "stream",
     "text": [
      "Test episode 1 Score: 20.0\n",
      "Test episode 2 Score: 13.0\n",
      "Test episode 3 Score: 20.0\n",
      "Test episode 4 Score: 12.0\n",
      "Test episode 5 Score: 20.0\n",
      "Test episode 6 Score: 17.0\n",
      "Test episode 7 Score: 4.0\n",
      "Test episode 8 Score: 23.0\n",
      "Test episode 9 Score: 24.0\n",
      "Test episode 10 Score: 16.0\n"
     ]
    }
   ],
   "source": [
    "# Test trained agent \n",
    "test_agent = Agent(state_size, action_size, seed)\n",
    "test_agent.qnetwork_local.load_state_dict(torch.load('checkpoint.pth'))\n",
    "num_test_runs=10\n",
    "                                      \n",
    "# Take steps\n",
    "#for t in range(num_steps_per_episode):\n",
    "for i in range(1, num_test_runs+1):\n",
    "    env_info = env.reset(train_mode=False)[brain_name]\n",
    "    state = env_info.vector_observations[0]\n",
    "    score = 0\n",
    "    while True:\n",
    "        # Get an action given the current state\n",
    "        action = test_agent.act(state)\n",
    "        # Send the action to the environment\n",
    "        env_info = env.step(action)[brain_name]\n",
    "        # Get the resulting state and reward\n",
    "        reward = env_info.rewards[0]\n",
    "        done = env_info.local_done[0]\n",
    "        state = env_info.vector_observations[0]\n",
    "        score += reward\n",
    "\n",
    "        if done:\n",
    "            break\n",
    "    print(\"Test episode {} Score: {}\".format(i, score))\n",
    "    "
   ]
  },
  {
   "cell_type": "code",
   "execution_count": 4,
   "id": "63d41c5e",
   "metadata": {},
   "outputs": [],
   "source": [
    "# Close the environment\n",
    "env.close()"
   ]
  },
  {
   "cell_type": "code",
   "execution_count": null,
   "id": "04b06dbb",
   "metadata": {},
   "outputs": [],
   "source": []
  }
 ],
 "metadata": {
  "kernelspec": {
   "display_name": "drlnd",
   "language": "python",
   "name": "drlnd"
  },
  "language_info": {
   "codemirror_mode": {
    "name": "ipython",
    "version": 3
   },
   "file_extension": ".py",
   "mimetype": "text/x-python",
   "name": "python",
   "nbconvert_exporter": "python",
   "pygments_lexer": "ipython3",
   "version": "3.7.13"
  }
 },
 "nbformat": 4,
 "nbformat_minor": 5
}
